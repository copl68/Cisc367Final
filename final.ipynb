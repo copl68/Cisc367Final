{
 "cells": [
  {
   "cell_type": "markdown",
   "id": "buried-bradford",
   "metadata": {},
   "source": [
    "# The Story of Amazon Product Reviews"
   ]
  },
  {
   "cell_type": "markdown",
   "id": "dynamic-dover",
   "metadata": {},
   "source": [
    "##### Cole Plum"
   ]
  },
  {
   "cell_type": "markdown",
   "id": "compatible-walter",
   "metadata": {},
   "source": [
    "### Problem\n",
    "Amazon.com is the worlds largest online retailer.<sup>5</sup> Many people rely on product reviews before purchasing products, however there has been discussion over the validity of product reviews on Amazon.com. There have been reports of inaccurate reviews on Amazon.com, where false positive reviews are submitted or false upvotes on negative reviews have been cast. This analysis aims to consider these claims of deceptive reviews in the Amazon marketplace and look for various trends within Amazon product review data. "
   ]
  },
  {
   "cell_type": "markdown",
   "id": "rotary-playlist",
   "metadata": {},
   "source": [
    "### Problem Justification\n",
    "Amazon.com is a household name that dominates the e-commerce space. Many users of Amazon's online shopping services rely on customer reviews on products that they are interested in. In fact, 20% of sales on Amazon.com are attributed to product reviews. Additionally, 1 out of 3 shoppers say that they will not purchase a product unless it has been positively reviewed.<sup>1</sup> <br><br>\n",
    "However, these reviews are not always honest reviews from paying customers with real opinions. There are numerous instances of fake reviews and ratings on Amazon.com, which portray a false image of a product to the audience. One example may be the use of bots and workers at click farms to mark negative reviews on their competitors products as \"helpful\" in order to give those products a false portrayal of bad customer experiences.<sup>2</sup> This approach aims to turn customers away from similar products of a companies competitors in the hopes that those customers will purchase their product instead. \n",
    "<br><br>Another example that may give false positive portrayal is the fact that some sellers on Amazon pay others to leave good reviews on their Amazon products. This process is called \"astroturfing\". Astroturfing is defined as, \"creating the impression of public support by paying people in the public to pretend to be supportive\".<sup>6</sup> During this process, there are monetary incentives offered to those who submit a positive review on that sellers product, which results in numerous inaccurate and positive reviews on undeserving products. One particular study has found 23 Facebook groups that are solely a dedicated place for sellers to hire fake reviewers for their products. On average, these groups include about 16,000 members and 570 posts per day.<sup>3</sup> \n",
    "<br><br> These deceitful techniques by sellers to attempt to gain more business hurt those sellers who are trying to honestly compete in the Amazon e-commerce space. These tactics of covering up the truth about products not only hurt honest sellers by decreasing their sales, but there also negatively impact consumers. If customers purchase products based off of inaccurate product reviews, the product they receive may be of lesser quality of competing products. At this point, customers are buying goods based off of deceptive lies rather that truthful product descriptions. With so much reported corruption within the reviews section of Amazon.com, it may be helpful to analyze the data withing these reviews to potentially identify patterns within the data. "
   ]
  },
  {
   "cell_type": "markdown",
   "id": "dramatic-classic",
   "metadata": {},
   "source": [
    "### Research Questions\n",
    "- How is are the star-ratings of products distributed? <br>\n",
    "- Is there a relationship between how positive or negative a review is and how objective or subjective a review is? <br>\n",
    "- Is there a difference in speech between verified and unverified reviews? <br>\n",
    "- Does there appear to be a pattern across the time of year the review was posted?<br>\n",
    "- Are verified and unverified reviews posted at the same rate/times of year?<br> "
   ]
  },
  {
   "cell_type": "markdown",
   "id": "banner-brain",
   "metadata": {},
   "source": [
    "### Question Justification\n",
    "- Star ratings on Amazon serve as an apparently easy metric for customers to judge a product by. By providing knowledge about what the star ratings of products are and how they're distributed, then customers will be more informed on how to choose the best products for them. <br><br>\n",
    "- By finding patterns between the level of objectivity and positivity ratings of a product review, we may be able to identify groups of reviews with different types. This can be done by observing the \"sentiment\" of reviews. The sentiment of a review can tell you two important characteristics of the speech used: the polarity (positive/negative tone behind the speech) and the subjectivity (how opinionated vs factual the speech is). <sup>7</sup> Prevalence of different groups representing different types of reviews may serve as an interesting basis for further questions of what could explain the groupings.  <br><br>\n",
    "- Differences in speech between groups could help highlight some important information. Especially if those groups are verified and unverified reviews, differences within the speech of a review may highlight some differences between types of reviews and help lead to identifying which reviews and decietful, fake ones. <br><br>\n",
    "- Sharp spikes in a graph showing the number of reviews posted across time in a day and time in a year may seem unusual, especially for certain times in the day. For example, if there were many upvotes for a negative review late in the night, there should be some concern. It is unlikely that many legitimate reviewers submit reviews and ratings very late at night. In fact, a good indication of a fake review is said to be a short spurt of many similar reviews. <sup>4</sup> Therefore, unusual peaks may be helpful in determining how accuarate reviews are.<br><br>  \n",
    "- Similar to observing the speech between verified and uinverified reviews, it could also be helpful to observe the distribution of time when these different types of reviews are posted. If certain patterns are evident within this data, it may be possible to define certain characteristics for reviews that are false or possibly false. This can help legitimate sellers promote their products while preventing deceitcult ones from gaining unfair advantage. "
   ]
  },
  {
   "cell_type": "code",
   "execution_count": null,
   "id": "faced-representation",
   "metadata": {},
   "outputs": [],
   "source": []
  }
 ],
 "metadata": {
  "kernelspec": {
   "display_name": "Python 3",
   "language": "python",
   "name": "python3"
  },
  "language_info": {
   "codemirror_mode": {
    "name": "ipython",
    "version": 3
   },
   "file_extension": ".py",
   "mimetype": "text/x-python",
   "name": "python",
   "nbconvert_exporter": "python",
   "pygments_lexer": "ipython3",
   "version": "3.9.2"
  }
 },
 "nbformat": 4,
 "nbformat_minor": 5
}
